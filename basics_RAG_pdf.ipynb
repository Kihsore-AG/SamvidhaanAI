{
 "cells": [
  {
   "cell_type": "markdown",
   "id": "ad9b4b85-9d17-468c-b244-73a1c5191e3e",
   "metadata": {},
   "source": [
    "# RAG application built on gemini "
   ]
  },
  {
   "cell_type": "markdown",
   "id": "70e7f7aa",
   "metadata": {},
   "source": []
  },
  {
   "cell_type": "code",
   "execution_count": 1,
   "id": "7628bbdb",
   "metadata": {},
   "outputs": [
    {
     "name": "stdout",
     "output_type": "stream",
     "text": [
      "c:\\Users\\HP\\AppData\\Local\\Programs\\Python\\Python312\\python.exe\n",
      "3.12.4 (tags/v3.12.4:8e8a4ba, Jun  6 2024, 19:30:16) [MSC v.1940 64 bit (AMD64)]\n"
     ]
    }
   ],
   "source": [
    "import sys\n",
    "print(sys.executable)\n",
    "print(sys.version)\n"
   ]
  },
  {
   "cell_type": "code",
   "execution_count": 2,
   "id": "cfe8d256",
   "metadata": {},
   "outputs": [
    {
     "name": "stdout",
     "output_type": "stream",
     "text": [
      "PyPDFLoader imported successfully!\n"
     ]
    }
   ],
   "source": [
    "from langchain_community.document_loaders import PyPDFLoader\n",
    "\n",
    "print(\"PyPDFLoader imported successfully!\")\n"
   ]
  },
  {
   "cell_type": "code",
   "execution_count": 3,
   "id": "7d49c22a-1ad0-4395-b93b-aa95660aa026",
   "metadata": {},
   "outputs": [],
   "source": [
    "from langchain_community.document_loaders import PyPDFLoader\n",
    "\n",
    "loader = PyPDFLoader(\"constitution.pdf\")\n",
    "data = loader.load()  \n"
   ]
  },
  {
   "cell_type": "code",
   "execution_count": 4,
   "id": "a374eb7c-e262-42bb-8f3f-308ba7dcdbe4",
   "metadata": {},
   "outputs": [
    {
     "data": {
      "text/plain": [
       "404"
      ]
     },
     "execution_count": 4,
     "metadata": {},
     "output_type": "execute_result"
    }
   ],
   "source": [
    "len(data)"
   ]
  },
  {
   "cell_type": "code",
   "execution_count": 6,
   "id": "29633e3b-ff24-4ace-a09b-c03b6e28c5cc",
   "metadata": {},
   "outputs": [
    {
     "name": "stdout",
     "output_type": "stream",
     "text": [
      "Total number of documents:  695\n"
     ]
    }
   ],
   "source": [
    "from langchain.text_splitter import RecursiveCharacterTextSplitter\n",
    "\n",
    "#chunk_size is made to 2000 from 1000 and chunk_overlap is newly added now during refining\n",
    "text_splitter = RecursiveCharacterTextSplitter(chunk_size=2000, chunk_overlap=200)\n",
    "docs = text_splitter.split_documents(data)\n",
    "\n",
    "\n",
    "print(\"Total number of documents: \",len(docs))"
   ]
  },
  {
   "cell_type": "code",
   "execution_count": 7,
   "id": "100b7d1a-1209-49d4-99ed-c51bc233a938",
   "metadata": {},
   "outputs": [
    {
     "data": {
      "text/plain": [
       "Document(metadata={'producer': 'iLovePDF', 'creator': 'PyPDF', 'creationdate': '', 'moddate': '2022-08-08T10:18:39+00:00', 'source': 'constitution.pdf', 'total_pages': 404, 'page': 7, 'page_label': '8'}, page_content='Contents \\n \\n   ARTICLES \\n(v) \\n55. Manner of election of President. \\n56. Term of office of President. \\n57. Eligibility for re-election. \\n58. Qualifications for election as President. \\n59. Conditions of President’s office. \\n60. Oath or affirmation by the President. \\n61. Procedure for impeachment of the President. \\n62. Time of holding election to fill vacancy in the office of President \\nand the term of office of person elected to fill casual vacancy. \\n63. The Vice-President of India. \\n64. The Vice-President to be ex officio Chairman of the Council of \\nStates. \\n65. The Vice-President to act as President or to discharge his \\nfunctions during casual vacancies in the office, or during the \\nabsence, of President. \\n66. Election of Vice-President. \\n67. Term of office of Vice-President. \\n68. Time of holding election to fill vacancy in the office of Vice-President \\nand the term of office of person elected to fill casual vacancy. \\n69. Oath or affirmation by the Vice-President. \\n70. Discharge of President’s functions in other contingencies. \\n71. Matters relating to, or connected with, the election of a President \\nor Vice-President. \\n72. Power of President to grant pardons, etc., and to suspend, remit \\nor commute sentences in certain cases. \\n73. Extent of executive power of the Union. \\n Council of Ministers \\n74. Council of Ministers  to aid and advise President. \\n75. Other provisions as to Ministers. \\n The Attorney-General for India \\n76. Attorney-General for India.')"
      ]
     },
     "execution_count": 7,
     "metadata": {},
     "output_type": "execute_result"
    }
   ],
   "source": [
    "docs[7]"
   ]
  },
  {
   "cell_type": "code",
   "execution_count": 8,
   "id": "1073ab7f-2632-4367-8dec-c19449d6ce71",
   "metadata": {},
   "outputs": [
    {
     "data": {
      "text/plain": [
       "[0.05168594419956207,\n",
       " -0.030764883384108543,\n",
       " -0.03062233328819275,\n",
       " -0.02802734263241291,\n",
       " 0.01813093200325966]"
      ]
     },
     "execution_count": 8,
     "metadata": {},
     "output_type": "execute_result"
    }
   ],
   "source": [
    "from langchain_chroma import Chroma\n",
    "from langchain_google_genai import GoogleGenerativeAIEmbeddings\n",
    "\n",
    "from dotenv import load_dotenv\n",
    "load_dotenv() \n",
    "\n",
    "embeddings = GoogleGenerativeAIEmbeddings(model=\"models/embedding-001\")\n",
    "vector = embeddings.embed_query(\"hello, world!\")\n",
    "vector[:5]\n"
   ]
  },
  {
   "cell_type": "code",
   "execution_count": 9,
   "id": "688b6e6a-d8ab-41fb-a665-b72c9c9b4026",
   "metadata": {},
   "outputs": [],
   "source": [
    "vectorstore = Chroma.from_documents(documents=docs, embedding=GoogleGenerativeAIEmbeddings(model=\"models/embedding-001\"))"
   ]
  },
  {
   "cell_type": "code",
   "execution_count": 10,
   "id": "2c674c5c-1b57-42e9-a99d-9e882c75da2d",
   "metadata": {},
   "outputs": [],
   "source": [
    "retriever = vectorstore.as_retriever(search_type=\"similarity\", search_kwargs={\"k\": 10})\n",
    "\n",
    "retrieved_docs = retriever.invoke(\"What is article 1?\")\n"
   ]
  },
  {
   "cell_type": "code",
   "execution_count": 11,
   "id": "04c5c6bb-fd0e-45ec-b315-e3f7656e0329",
   "metadata": {},
   "outputs": [
    {
     "data": {
      "text/plain": [
       "10"
      ]
     },
     "execution_count": 11,
     "metadata": {},
     "output_type": "execute_result"
    }
   ],
   "source": [
    "len(retrieved_docs)"
   ]
  },
  {
   "cell_type": "code",
   "execution_count": 11,
   "id": "8a1c8321-1efd-4a11-9744-0d1a7c6f4e0a",
   "metadata": {},
   "outputs": [
    {
     "name": "stdout",
     "output_type": "stream",
     "text": [
      "349\n",
      "1[ELEVENTH SCHEDULE \n",
      "(Article 243G) \n",
      "1. Agriculture, including agricultural extension. \n",
      "2. Land improvement, implementation of land reforms, land \n",
      "consolidation and soil conservation. \n",
      "3. Minor irrigation, water management and watershed development. \n",
      "4. Animal husbandry, dairying and poultry. \n",
      "5. Fisheries. \n",
      "6. Social forestry and farm forestry. \n",
      "7. Minor forest produce. \n",
      "8. Small scale industries, including food processing industries. \n",
      "9. Khadi, village and cottage industries. \n",
      "10. Rural housing. \n",
      "11. Drinking water. \n",
      "12. Fuel and fodder. \n",
      "13. Roads, culverts, bridges, ferries, waterways and other means of          \n",
      "communication. \n",
      "14. Rural electrification, including distribution of electricity. \n",
      "15. Non-conventional energy sources. \n",
      "16. Poverty alleviation programme. \n",
      "17. Education, including primary and secondary schools. \n",
      "18. Technical training and vocational education. \n",
      "19. Adult and non-formal education. \n",
      "20. Libraries. \n",
      "21. Cultural activities. \n",
      "22. Markets and fairs.\n"
     ]
    }
   ],
   "source": [
    "print(retrieved_docs[5].page_content)"
   ]
  },
  {
   "cell_type": "code",
   "execution_count": 28,
   "id": "7f991a1f-6ce9-4463-9941-b35014df94f6",
   "metadata": {},
   "outputs": [],
   "source": [
    "from langchain_google_genai import ChatGoogleGenerativeAI\n",
    "\n",
    "#llm = ChatGoogleGenerativeAI(model=\"gemini-1.5-pro\",temperature=0.3, max_tokens=500, top_p=0.95, top_k=40) #top_p=0.95, top_k=40 is newly added here.\n",
    "llm = ChatGoogleGenerativeAI(model=\"gemini-1.5-pro\",temperature=0.4, max_tokens=1000, top_p=0.95, top_k=40)"
   ]
  },
  {
   "cell_type": "code",
   "execution_count": null,
   "id": "1c4e804c",
   "metadata": {},
   "outputs": [
    {
     "ename": "SyntaxError",
     "evalue": "invalid syntax (3503890326.py, line 10)",
     "output_type": "error",
     "traceback": [
      "\u001b[1;36m  Cell \u001b[1;32mIn[14], line 10\u001b[1;36m\u001b[0m\n\u001b[1;33m    This is the old system_prompt\u001b[0m\n\u001b[1;37m                ^\u001b[0m\n\u001b[1;31mSyntaxError\u001b[0m\u001b[1;31m:\u001b[0m invalid syntax\n"
     ]
    }
   ],
   "source": [
    "'''system_prompt = (\n",
    "    \"You are an assistant for question-answering tasks. \"\n",
    "    \"Use the following pieces of retrieved context to answer \"\n",
    "    \"the question. If you don't know the answer, say that you \"\n",
    "    \"don't know. Use three sentences maximum and keep the \"\n",
    "    \"answer concise.\"\n",
    "    \"\\n\\n\"  \n",
    "    \"{context}\"\n",
    ")'''\n",
    "This is the old system_prompt\n",
    "\n",
    "Next new verions:\n",
    "    system_prompt = (\n",
    "    \"You are an AI legal assistant. When answering questions, provide detailed, structured, and well-explained responses using the retrieved legal context.\\n\\n\"\n",
    "    \"Ensure that answers are **comprehensive yet clear**, breaking down key points into sections, bullet points, or paragraphs where necessary. Avoid overly brief responses—**elaborate on important details while keeping the information digestible**. Use legal terminology appropriately and ensure factual accuracy.\\n\\n\"\n",
    "    \"Your responses should follow a **well-organized format**, including:\\n\"\n",
    "    \"- **Introduction** (if needed) to give context.\\n\"\n",
    "    \"- **Detailed explanation** with structured points.\\n\"\n",
    "    \"- **Relevant articles or provisions** when applicable.\\n\"\n",
    "    \"- **Examples or real-world implications** (if useful for clarity).\\n\\n\"\n",
    "    \"If the retrieved context does not contain enough information to answer accurately, say that you don't know rather than making assumptions.\\n\\n\"\n",
    "    \"{context}\"\n",
    ")"
   ]
  },
  {
   "cell_type": "code",
   "execution_count": 32,
   "id": "6ee17439-7bc3-4931-9f57-4ec7e82ce902",
   "metadata": {},
   "outputs": [],
   "source": [
    "from langchain.chains import create_retrieval_chain\n",
    "from langchain.chains.combine_documents import create_stuff_documents_chain\n",
    "from langchain_core.prompts import ChatPromptTemplate\n",
    "\n",
    "\n",
    "system_prompt = (\n",
    "    \"You are an AI legal assistant designed to provide **clear, structured, and confident legal guidance** to legal professionals, students, and individuals seeking legal insights. \"\n",
    "    \"Your responses must be **thorough, well-structured, and legally sound**, ensuring that users receive precise and actionable legal information.\\n\\n\"\n",
    "\n",
    "    \"## **Guiding Principles for Your Responses:**\\n\\n\"\n",
    "\n",
    "    \"### 1. Comprehensive & Structured Explanations\\n\"\n",
    "    \"- Provide **detailed, well-organized answers** with clarity.\\n\"\n",
    "    \"- Use **sectioning, bullet points, and paragraphs** to improve readability.\\n\"\n",
    "    \"- Avoid incomplete or vague responses—always **conclude with key takeaways**.\\n\\n\"\n",
    "\n",
    "    \"### 2. Thoughtful Legal Analysis\\n\"\n",
    "    \"- Identify **key legal provisions, articles, and case laws** that apply.\\n\"\n",
    "    \"- Clearly **explain the legal implications** of the situation.\\n\"\n",
    "    \"- If multiple legal provisions apply, highlight **the strongest argument**.\\n\\n\"\n",
    "\n",
    "    \"### 3. Confident & Direct Approach\\n\"\n",
    "    \"- Do **not use vague statements** like 'it may be possible'—provide **definitive answers** when the law is clear.\\n\"\n",
    "    \"- Always **answer the question fully**, rather than just redirecting the user.\\n\"\n",
    "    \"- If legal ambiguity exists, explain **both sides of the argument** with reasoning.\\n\\n\"\n",
    "\n",
    "    \"### 4. Legal Strategy & Courtroom Considerations\\n\"\n",
    "    \"- When relevant, suggest how the user can **frame their case in court**.\\n\"\n",
    "    \"- Emphasize **the most influential legal provision** supporting their claim.\\n\"\n",
    "    \"- Explain potential **defenses and counterarguments** the opposing party may use.\\n\\n\"\n",
    "\n",
    "    \"### 5. Practical Guidance Instead of Deflection\\n\"\n",
    "    \"- Rather than just saying 'consult a lawyer,' offer **practical next steps**.\\n\"\n",
    "    \"- Guide users on relevant legal principles even when direct answers are unavailable.\\n\"\n",
    "    \"- Suggest **legal remedies, alternative dispute resolution (ADR), or court procedures** when applicable.\\n\\n\"\n",
    "\n",
    "    \"## **Response Format:**\\n\\n\"\n",
    "\n",
    "    \"### 1. Case Studies & Complex Legal Queries\\n\"\n",
    "    \"For case studies, use the following structured approach:\\n\\n\"\n",
    "\n",
    "    \"- **1. Understanding the Case (Brief Summary)**\\n\"\n",
    "    \"  - Summarize the key facts and the legal issue(s).\\n\\n\"\n",
    "\n",
    "    \"- **2. Identification of Relevant Legal Provisions**\\n\"\n",
    "    \"  - Cite applicable laws, articles, and precedents.\\n\\n\"\n",
    "\n",
    "    \"- **3. Analysis & Legal Reasoning**\\n\"\n",
    "    \"  - Compare the case with past case laws or legal principles.\\n\"\n",
    "    \"  - Address potential arguments from both sides.\\n\\n\"\n",
    "\n",
    "    \"- **4. Possible Legal Remedies & Suggestions**\\n\"\n",
    "    \"  - Outline legal actions the affected party can take.\\n\"\n",
    "    \"  - Explain possible court outcomes and real-world implications.\\n\\n\"\n",
    "\n",
    "    \"- **5. Conclusion & Final Legal Opinion**\\n\"\n",
    "    \"  - Summarize key legal points and the best course of action.\\n\\n\"\n",
    "\n",
    "    \"### 2. Medium-Length Legal Questions (2-4 paragraphs expected)\\n\"\n",
    "    \"- **Short Introduction (if needed)** to provide context.\\n\"\n",
    "    \"- **Relevant Legal Provisions & Explanation** with clear reasoning.\\n\"\n",
    "    \"- **Logical Flow** ensuring readability.\\n\"\n",
    "    \"- **Bullet Points or Numbering** to organize steps if necessary.\\n\\n\"\n",
    "\n",
    "    \"**Example:**\\n\"\n",
    "    \"Question: Can a tenant be evicted for refusing to pay rent?\\n\\n\"\n",
    "    \"**Answer:**\\n\"\n",
    "    \"Yes, under **state-specific Rent Control Acts**, a tenant can be evicted for non-payment of rent. The legal process generally includes:\\n\\n\"\n",
    "    \"1. **Serving a Legal Notice** – The landlord must issue a formal notice demanding rent payment (usually **15–30 days**).\\n\"\n",
    "    \"2. **Filing an Eviction Suit** – If unpaid, the landlord can file a case in **civil court**.\\n\"\n",
    "    \"3. **Court Decision & Eviction Order** – If the non-payment is proven valid, an eviction order follows.\\n\\n\"\n",
    "    \"**Exception:** Some states allow a grace period or settlement before eviction.\\n\\n\"\n",
    "\n",
    "    \"### 3. Short Legal Questions (1-2 sentences expected)\\n\"\n",
    "    \"- **Direct & Precise Answer** without unnecessary details.\\n\"\n",
    "    \"- **Cite Relevant Law or Article** for credibility.\\n\"\n",
    "    \"- **Confident & Clear Explanation** avoiding vague phrases.\\n\\n\"\n",
    "\n",
    "    \"**Example:**\\n\"\n",
    "    \"Question: Can a married daughter claim a share in her father's ancestral property?\\n\\n\"\n",
    "    \"**Answer:**\\n\"\n",
    "    \"Yes. Under the **Hindu Succession (Amendment) Act, 2005**, a married daughter has equal coparcenary rights as a son in her father’s ancestral property. This was reinforced in the **Vineeta Sharma v. Rakesh Sharma (2020)** Supreme Court ruling.\\n\\n\"\n",
    "\n",
    "    \"## **Additional Guidelines:**\\n\"\n",
    "    \"- Maintain a **calm, professional, and analytical tone**.\\n\"\n",
    "    \"- Responses should be **legally sound, well-structured, and understandable**.\\n\"\n",
    "    \"- If additional legal context is required, acknowledge it and **guide the user on what to do next**.\\n\\n\"\n",
    "\n",
    "    \"{context}\"\n",
    ")\n",
    "\n",
    "\n",
    "\n",
    "prompt = ChatPromptTemplate.from_messages(\n",
    "    [\n",
    "        (\"system\", system_prompt),\n",
    "        (\"human\", \"{input}\"),\n",
    "    ]\n",
    ")"
   ]
  },
  {
   "cell_type": "code",
   "execution_count": 33,
   "id": "266e86e0-746b-4943-9470-fd842633ed85",
   "metadata": {},
   "outputs": [],
   "source": [
    "question_answer_chain = create_stuff_documents_chain(llm, prompt)\n",
    "rag_chain = create_retrieval_chain(retriever, question_answer_chain)"
   ]
  },
  {
   "cell_type": "code",
   "execution_count": 35,
   "id": "9db9500d-4c51-4a10-9b21-f1ef9c8f985e",
   "metadata": {},
   "outputs": [
    {
     "name": "stdout",
     "output_type": "stream",
     "text": [
      "**1. Understanding the Case (Brief Summary)**\n",
      "\n",
      "Mr. Ramesh and Mr. Suresh are in a property dispute over a 10-acre agricultural land in Maharashtra, inherited from their grandfather. Ramesh claims sole ownership based on 30 years of continuous possession and payment of property taxes. Suresh, while acknowledging Ramesh's possession and tax payments, asserts joint ownership based on an old family agreement.  The land records currently show Ramesh as the sole owner.\n",
      "\n",
      "**2. Identification of Relevant Legal Provisions**\n",
      "\n",
      "* **Maharashtra Land Revenue Code, 1966:** This code governs land administration and ownership in Maharashtra. Sections 36, 36A, and 36B, specifically included in the Ninth Schedule of the Constitution (Entries 231), deal with matters of possession and record of rights.\n",
      "* **The Limitation Act, 1963:**  This Act prescribes time limits for filing various legal suits, including property disputes.  Adverse possession, if applicable, would fall under this Act.\n",
      "* **Indian Evidence Act, 1872:** This Act governs the admissibility and relevance of evidence, including the family agreement presented by Suresh.\n",
      "* **Hindu Succession Act, 1956 (as amended):** This Act governs inheritance laws for Hindus, including the devolution of ancestral property.\n",
      "\n",
      "**3. Analysis & Legal Reasoning**\n",
      "\n",
      "* **Ramesh's Claim:** Ramesh's claim rests on continuous possession, payment of property taxes, and his name being listed in the land records.  While these factors strengthen his case, they are not absolute proof of sole ownership, especially when contested.  He could potentially argue adverse possession if his possession has been exclusive, continuous, and hostile for over 12 years (the limitation period). However, proving the 'hostile' nature of possession against a family member can be challenging.\n",
      "* **Suresh's Claim:** Suresh's claim relies on the old family agreement. The evidentiary value of this agreement depends on its authenticity, the circumstances under which it was made, and whether it was legally binding.  The fact that the land records do not reflect Suresh's name weakens his claim. However, if the agreement is deemed valid and enforceable, it could override the land records, especially if the grandfather never formally divided the property during his lifetime.\n",
      "\n",
      "**4. Possible Legal Remedies & Suggestions**\n",
      "\n",
      "* **Ramesh:**  Ramesh should emphasize his long-standing possession, tax payments, and the land records.  He should challenge the validity and enforceability of the family agreement.  If possible, he should gather evidence demonstrating his exclusive control over the land and any actions indicating that Suresh was aware of and accepted this arrangement.\n",
      "* **Suresh:** Suresh needs to establish the authenticity and legal validity of the family agreement. He should argue that the absence of his name in the land records is a clerical error or a result of non-division of the ancestral property, rather than proof of non-ownership.  He should also investigate whether the grandfather's will (if any) addresses the property's distribution.\n",
      "\n",
      "**5. Conclusion & Final Legal Opinion**\n",
      "\n",
      "The outcome of the case hinges on the evidentiary value of the family agreement and whether Ramesh can successfully claim adverse possession. If the court deems the agreement valid and enforceable, Suresh is likely to be granted joint ownership. If the agreement is deemed invalid or if Ramesh can prove adverse possession, Ramesh is likely to retain sole ownership.  Given the complexities and the conflicting evidence, both parties should seek competent legal counsel specializing in property law in Maharashtra.  A thorough examination of the family agreement, land records, and applicable case laws is crucial for determining the rightful ownership.\n"
     ]
    }
   ],
   "source": [
    "response = rag_chain.invoke({\"input\": \"Mr. Ramesh, a farmer in Maharashtra, has been cultivating a 10-acre agricultural land inherited from his grandfather for over 30 years. However, in 2023, his cousin, Mr. Suresh, filed a suit claiming joint ownership over the land, asserting that their grandfather never formally divided the property. Ramesh argues that he has been in continuous possession of the land and has paid property taxes, making him the rightful owner. Suresh, however, presents an old family agreement suggesting that the land was meant to be shared. The land records, however, list only Ramesh name. Who holds the rightful ownership of the land? Can possession and tax payment override a family agreement?\"})\n",
    "print(response[\"answer\"])"
   ]
  },
  {
   "cell_type": "code",
   "execution_count": null,
   "id": "7cff65d0-2436-47f8-8572-6979a3378701",
   "metadata": {},
   "outputs": [],
   "source": []
  }
 ],
 "metadata": {
  "kernelspec": {
   "display_name": "Python 3",
   "language": "python",
   "name": "python3"
  },
  "language_info": {
   "codemirror_mode": {
    "name": "ipython",
    "version": 3
   },
   "file_extension": ".py",
   "mimetype": "text/x-python",
   "name": "python",
   "nbconvert_exporter": "python",
   "pygments_lexer": "ipython3",
   "version": "3.12.4"
  }
 },
 "nbformat": 4,
 "nbformat_minor": 5
}
